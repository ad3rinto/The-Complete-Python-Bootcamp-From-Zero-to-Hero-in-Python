{
 "cells": [
  {
   "cell_type": "code",
   "execution_count": 1,
   "id": "699228c0",
   "metadata": {},
   "outputs": [
    {
     "name": "stdout",
     "output_type": "stream",
     "text": [
      "Writing myfile.txt\n"
     ]
    }
   ],
   "source": [
    "%%writefile myfile.txt\n",
    "Hello this is the first line\n",
    "Second line here\n",
    "And last line of the file here"
   ]
  },
  {
   "cell_type": "code",
   "execution_count": 23,
   "id": "9d3068db",
   "metadata": {},
   "outputs": [],
   "source": [
    "with open(\"myfile.txt\",mode=\"r\") as myfile:\n",
    "    content =myfile.readlines()"
   ]
  },
  {
   "cell_type": "code",
   "execution_count": 25,
   "id": "f81cb3c8",
   "metadata": {},
   "outputs": [
    {
     "data": {
      "text/plain": [
       "'And last line of the file here\\n'"
      ]
     },
     "execution_count": 25,
     "metadata": {},
     "output_type": "execute_result"
    }
   ],
   "source": [
    "content[-1]\n"
   ]
  },
  {
   "cell_type": "code",
   "execution_count": 26,
   "id": "21ab06e0",
   "metadata": {},
   "outputs": [
    {
     "name": "stdout",
     "output_type": "stream",
     "text": [
      "Writing myfile2.txt\n"
     ]
    }
   ],
   "source": [
    "%%writefile myfile2.txt\n",
    "Hello this is the first line\n",
    "Second line here\n",
    "And last line of the file here\n",
    "Hello this is the first line\n",
    "Second line here\n",
    "And last line of the file here\n",
    "Hello this is the first line\n",
    "Second line here\n",
    "And last line of the file here"
   ]
  },
  {
   "cell_type": "code",
   "execution_count": 29,
   "id": "62b31e38",
   "metadata": {},
   "outputs": [],
   "source": [
    "with open(\"myfile2.txt\",mode=\"r\") as myfile2:\n",
    "    content2 =myfile2.readlines()"
   ]
  },
  {
   "cell_type": "code",
   "execution_count": 30,
   "id": "b2d1e864",
   "metadata": {},
   "outputs": [
    {
     "data": {
      "text/plain": [
       "['Hello this is the first line\\n',\n",
       " 'Second line here\\n',\n",
       " 'And last line of the file here\\n',\n",
       " 'Hello this is the first line\\n',\n",
       " 'Second line here\\n',\n",
       " 'And last line of the file here\\n',\n",
       " 'Hello this is the first line\\n',\n",
       " 'Second line here\\n',\n",
       " 'And last line of the file here\\n']"
      ]
     },
     "execution_count": 30,
     "metadata": {},
     "output_type": "execute_result"
    }
   ],
   "source": [
    "content2"
   ]
  },
  {
   "cell_type": "code",
   "execution_count": 31,
   "id": "f98c4a87",
   "metadata": {},
   "outputs": [],
   "source": [
    "with open(\"myfile\", mode = \"a\") as f:\n",
    "    f.write(\"I wonder wonder wonder \")"
   ]
  },
  {
   "cell_type": "code",
   "execution_count": 32,
   "id": "ddfbf109",
   "metadata": {},
   "outputs": [],
   "source": [
    "with open(\"myfile.txt\",mode=\"r\") as myfile:\n",
    "    content =myfile.readlines()"
   ]
  },
  {
   "cell_type": "code",
   "execution_count": 33,
   "id": "93bbf7b3",
   "metadata": {},
   "outputs": [
    {
     "data": {
      "text/plain": [
       "['Hello this is the first line\\n',\n",
       " 'Second line here\\n',\n",
       " 'And last line of the file here\\n']"
      ]
     },
     "execution_count": 33,
     "metadata": {},
     "output_type": "execute_result"
    }
   ],
   "source": [
    "content"
   ]
  },
  {
   "cell_type": "code",
   "execution_count": null,
   "id": "a116e5b7",
   "metadata": {},
   "outputs": [],
   "source": []
  }
 ],
 "metadata": {
  "kernelspec": {
   "display_name": "Python 3 (ipykernel)",
   "language": "python",
   "name": "python3"
  },
  "language_info": {
   "codemirror_mode": {
    "name": "ipython",
    "version": 3
   },
   "file_extension": ".py",
   "mimetype": "text/x-python",
   "name": "python",
   "nbconvert_exporter": "python",
   "pygments_lexer": "ipython3",
   "version": "3.11.4"
  }
 },
 "nbformat": 4,
 "nbformat_minor": 5
}
